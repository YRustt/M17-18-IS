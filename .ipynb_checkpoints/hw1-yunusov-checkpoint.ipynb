{
 "cells": [
  {
   "cell_type": "code",
   "execution_count": 2,
   "metadata": {},
   "outputs": [
    {
     "name": "stdout",
     "output_type": "stream",
     "text": [
      "data/\n",
      "data/eval.py\n",
      "data/cran.qry\n",
      "data/qrel_clean\n",
      "data/cran.all.1400\n"
     ]
    }
   ],
   "source": [
    "!tar -xvzf data/data.tar.gz"
   ]
  },
  {
   "cell_type": "code",
   "execution_count": 4,
   "metadata": {},
   "outputs": [
    {
     "name": "stdout",
     "output_type": "stream",
     "text": [
      ".I 1\r\n",
      ".T\r\n",
      "experimental investigation of the aerodynamics of a\r\n",
      "wing in a slipstream .\r\n",
      ".A\r\n",
      "brenckman,m.\r\n",
      ".B\r\n",
      "j. ae. scs. 25, 1958, 324.\r\n",
      ".W\r\n",
      "experimental investigation of the aerodynamics of a\r\n",
      "wing in a slipstream .\r\n",
      "  an experimental study of a wing in a propeller slipstream was\r\n",
      "made in order to determine the spanwise distribution of the lift\r\n",
      "increase due to slipstream at different angles of attack of the wing\r\n",
      "and at different free stream to slipstream velocity ratios .  the\r\n",
      "results were intended in part as an evaluation basis for different\r\n",
      "theoretical treatments of this problem .\r\n",
      "  the comparative span loading curves, together with\r\n",
      "supporting evidence, showed that a substantial part of the lift increment\r\n",
      "produced by the slipstream was due to a /destalling/ or\r\n",
      "boundary-layer-control effect .  the integrated remaining lift\r\n",
      "increment, after subtracting this destalling lift, was found to agree\r\n",
      "well with a potential flow theory .\r\n",
      "  an empirical evaluation of the destalling effects was made for\r\n",
      "the specific configuration of the experiment .\r\n",
      ".I 2\r\n",
      ".T\r\n",
      "simple shear flow past a flat plate in an incompressible fluid of small\r\n",
      "viscosity .\r\n",
      ".A\r\n"
     ]
    }
   ],
   "source": [
    "!head -30 data/cran.all.1400"
   ]
  },
  {
   "cell_type": "code",
   "execution_count": 8,
   "metadata": {
    "collapsed": true
   },
   "outputs": [],
   "source": [
    "import os\n",
    "import sys\n",
    "\n",
    "from typing import (\n",
    "    Optional,\n",
    "    List\n",
    ")\n",
    "\n",
    "BASE_DIR = \"data\"\n",
    "ALL_DATA_FILE = os.path.join(BASE_DIR, \"cran.all.1400\")"
   ]
  },
  {
   "cell_type": "code",
   "execution_count": 10,
   "metadata": {},
   "outputs": [
    {
     "data": {
      "text/plain": [
       "['.Iasdf.Iasdf']"
      ]
     },
     "execution_count": 10,
     "metadata": {},
     "output_type": "execute_result"
    }
   ],
   "source": [
    "class Text:\n",
    "    def __init__(self):\n",
    "        self.i = None # type: str\n",
    "        self.t = None # type: str\n",
    "        self.a = None # type: str\n",
    "        self.b = None # type: str\n",
    "        self.w = None # type: str\n",
    "\n",
    "\n",
    "def read_file(filepath):\n",
    "    # type: (str) -> Optional[List[str]]\n",
    "    \n",
    "    with open(filepath, \"r\") as fin:\n",
    "        lines = fin.readlines()\n",
    "        return lines\n",
    "    \n",
    "    return None\n",
    "\n",
    "\n",
    "def parse_text(lines):\n",
    "    # type: (str) -> List[Text]\n",
    "    \n",
    "    d = {\n",
    "        1: 'i',\n",
    "        2: 't',\n",
    "        3: 'a',\n",
    "        4: 'b',\n",
    "        5: 'w',\n",
    "    }\n",
    "    \n",
    "    texts = []\n",
    "    \n",
    "    while True:\n",
    "        t = Text()\n",
    "        for l in lines:\n",
    "            if l.startswith(\".I\"):\n",
    "                texts.append(line)\n",
    "            elif l.startswith(\".T\"):\n",
    "                text\n",
    "\n"
   ]
  },
  {
   "cell_type": "code",
   "execution_count": 15,
   "metadata": {},
   "outputs": [
    {
     "data": {
      "text/plain": [
       "['', 'asdf', 'asdf']"
      ]
     },
     "execution_count": 15,
     "metadata": {},
     "output_type": "execute_result"
    }
   ],
   "source": [
    "\".Iasdf.Iasdf\".split(\".I\")"
   ]
  },
  {
   "cell_type": "code",
   "execution_count": null,
   "metadata": {
    "collapsed": true
   },
   "outputs": [],
   "source": []
  }
 ],
 "metadata": {
  "kernelspec": {
   "display_name": "Python 3",
   "language": "python",
   "name": "python3"
  },
  "language_info": {
   "codemirror_mode": {
    "name": "ipython",
    "version": 3
   },
   "file_extension": ".py",
   "mimetype": "text/x-python",
   "name": "python",
   "nbconvert_exporter": "python",
   "pygments_lexer": "ipython3",
   "version": "3.6.3"
  }
 },
 "nbformat": 4,
 "nbformat_minor": 2
}
