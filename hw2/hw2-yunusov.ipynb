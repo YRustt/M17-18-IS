{
 "cells": [
  {
   "cell_type": "code",
   "execution_count": 3,
   "metadata": {},
   "outputs": [],
   "source": [
    "import logging\n",
    "logging.getLogger('scrapy').propagate = False\n",
    "\n",
    "import json\n",
    "\n",
    "import scrapy\n",
    "from scrapy.spiders import CrawlSpider, Rule\n",
    "from scrapy.linkextractors import LinkExtractor\n",
    "import scrapy.crawler as crawler\n",
    "\n",
    "import networkx as nx\n",
    "\n",
    "import matplotlib.pyplot as plt\n",
    "%matplotlib inline\n",
    "\n",
    "\n",
    "SCRAPY_RESULT_FILE = \"graph.json\"\n",
    "SCRAPY_PAGES_COUNT = 10000\n",
    "SCRAPY_LINKS_LIMIT = 100"
   ]
  },
  {
   "cell_type": "code",
   "execution_count": 2,
   "metadata": {
    "collapsed": true
   },
   "outputs": [],
   "source": [
    "!rm -f SCRAPY_RESULT_FILE"
   ]
  },
  {
   "cell_type": "code",
   "execution_count": 3,
   "metadata": {},
   "outputs": [],
   "source": [
    "class CustomSpider(CrawlSpider):\n",
    "    name = \"custom_spider\"\n",
    "    \n",
    "    allowed_domains = [\"wikipedia.org\"]\n",
    "    start_urls = [\n",
    "        \"https://en.wikipedia.org/wiki/Information_retrieval\",\n",
    "        \"https://en.wikipedia.org/wiki/Mein_Kampf\",\n",
    "        \"https://en.wikipedia.org/wiki/Soviet_Union\",\n",
    "        \"https://en.wikipedia.org/wiki/Nineteen_Eighty-Four\",\n",
    "        \"https://en.wikipedia.org/wiki/The_Hero_with_a_Thousand_Faces\",\n",
    "    ]\n",
    "    rules = (\n",
    "        Rule(LinkExtractor(allow=\"https://.+\\.wikipedia\\.org/wiki/\" + \\\n",
    "                                 \"(?!((File|Talk|Category|Portal|Special|Wikipedia|Help|Draft):|Main_Page)).+\",\n",
    "                           restrict_xpaths='//div[@id=\"mw-content-text\"]'),\n",
    "             process_links=lambda links: links[:SCRAPY_LINKS_LIMIT],\n",
    "             callback=\"parse_item\", \n",
    "             follow=True),\n",
    "    )\n",
    "    \n",
    "    custom_settings = {\n",
    "        \"CLOSESPIDER_PAGECOUNT\": SCRAPY_PAGES_COUNT,\n",
    "        \"CLOSESPIDER_ERRORCOUNT\": 0,\n",
    "        \"CONCURRENT_REQUESTS\": 16\n",
    "    }\n",
    "\n",
    "    def parse_item(self, response):\n",
    "        links = [lnk.url for rule in self._rules \n",
    "                 for lnk in rule.process_links(rule.link_extractor.extract_links(response))]\n",
    "        return {'url': response.url, 'links': links}"
   ]
  },
  {
   "cell_type": "code",
   "execution_count": 4,
   "metadata": {
    "collapsed": true
   },
   "outputs": [],
   "source": [
    "runner = crawler.CrawlerProcess({\n",
    "    'FEED_FORMAT': 'json',\n",
    "    'FEED_URI': SCRAPY_RESULT_FILE\n",
    "})\n",
    "runner.crawl(CustomSpider)\n",
    "runner.start()"
   ]
  },
  {
   "cell_type": "code",
   "execution_count": 4,
   "metadata": {},
   "outputs": [],
   "source": [
    "graph_json = json.load(open(SCRAPY_RESULT_FILE))\n",
    "G = nx.DiGraph()\n",
    "nodes = {}\n",
    "\n",
    "def get_edges():\n",
    "    i = 0\n",
    "    for line in graph_json:\n",
    "        source, targets = line[\"url\"], line[\"links\"]\n",
    "        if nodes.get(source) is None:\n",
    "            nodes[source] = i\n",
    "            i += 1\n",
    "\n",
    "        for target in targets:\n",
    "            if nodes.get(target) is None:\n",
    "                nodes[target] = i\n",
    "                i += 1\n",
    "\n",
    "            yield nodes[source], nodes[target]\n",
    "\n",
    "\n",
    "G.add_edges_from(get_edges())"
   ]
  },
  {
   "cell_type": "code",
   "execution_count": 5,
   "metadata": {},
   "outputs": [
    {
     "data": {
      "text/plain": [
       "863100"
      ]
     },
     "execution_count": 5,
     "metadata": {},
     "output_type": "execute_result"
    }
   ],
   "source": [
    "G.size()"
   ]
  },
  {
   "cell_type": "code",
   "execution_count": 6,
   "metadata": {},
   "outputs": [
    {
     "data": {
      "text/plain": [
       "521149"
      ]
     },
     "execution_count": 6,
     "metadata": {},
     "output_type": "execute_result"
    }
   ],
   "source": [
    "G.number_of_nodes()"
   ]
  },
  {
   "cell_type": "code",
   "execution_count": 7,
   "metadata": {},
   "outputs": [
    {
     "data": {
      "text/plain": [
       "863100"
      ]
     },
     "execution_count": 7,
     "metadata": {},
     "output_type": "execute_result"
    }
   ],
   "source": [
    "G.number_of_edges()"
   ]
  },
  {
   "cell_type": "code",
   "execution_count": null,
   "metadata": {},
   "outputs": [],
   "source": [
    "pr = nx.pagerank(G)"
   ]
  },
  {
   "cell_type": "code",
   "execution_count": 1,
   "metadata": {},
   "outputs": [],
   "source": [
    "%matplotlib inline\n",
    "import matplotlib.pyplot as plt\n",
    "\n",
    "# plt.figure(figsize=(20,10))\n",
    "# nx.draw(G, with_labels=True)"
   ]
  },
  {
   "cell_type": "code",
   "execution_count": null,
   "metadata": {
    "collapsed": true
   },
   "outputs": [],
   "source": []
  }
 ],
 "metadata": {
  "kernelspec": {
   "display_name": "Python 3",
   "language": "python",
   "name": "python3"
  },
  "language_info": {
   "codemirror_mode": {
    "name": "ipython",
    "version": 3
   },
   "file_extension": ".py",
   "mimetype": "text/x-python",
   "name": "python",
   "nbconvert_exporter": "python",
   "pygments_lexer": "ipython3",
   "version": "3.6.3"
  }
 },
 "nbformat": 4,
 "nbformat_minor": 2
}
