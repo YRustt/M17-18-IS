{
 "cells": [
  {
   "cell_type": "code",
   "execution_count": 6,
   "metadata": {
    "collapsed": true
   },
   "outputs": [],
   "source": [
    "import scrapy\n",
    "#from wiki_demo.items import WikiDemoItem\n",
    "\n",
    "import re\n",
    "\n",
    "class FirstLinkSpider(scrapy.CrawlSpider):\n",
    "    name = 'first_link'\n",
    "    start_urls = ['https://en.wikipedia.org/wiki/Information_retrieval']\n",
    "    visited_urls = set()\n",
    "    \n",
    "    header_selector = 'h1#firstHeading.firstHeading::text'\n",
    "    body_link_selector = 'div#mw-content-text.mw-content-ltr a::attr(\"href\")'\n",
    "    allowed_re = re.compile('https://.+\\.wikipedia\\.org/wiki/'\n",
    "                            '(?!((File|Talk|Category|Portal|Special|Wikipedia'\n",
    "                            '|Help|Draft):|Main_Page)).+')\n",
    "       \n",
    "    def parse(self, response):\n",
    "        yield {\n",
    "            'title': response.css(self.header_selector).extract_first().encode('utf-8'),\n",
    "            'url': response.url\n",
    "        }\n",
    "        self.visited_urls.add(response.url)\n",
    "        if response.url == 'https://en.wikipedia.org/wiki/Philosophy':\n",
    "            raise StopIteration\n",
    "\n",
    "        for link in response.css(self.body_link_selector).extract():\n",
    "            if link[0] == '#':\n",
    "                continue\n",
    "            next_url = response.urljoin(link)\n",
    "            if self.allowed_re.match(next_url) and not next_url in self.visited_urls:\n",
    "                yield scrapy.Request(next_url, callback=self.parse)\n",
    "                break"
   ]
  },
  {
   "cell_type": "code",
   "execution_count": 7,
   "metadata": {
    "collapsed": true
   },
   "outputs": [],
   "source": [
    "import matplotlib.pyplot as plt\n",
    "import numpy as np\n",
    "%matplotlib inline\n",
    "\n",
    "import networkx as nx\n",
    "g = nx.barabasi_albert_graph(1000, 3)\n",
    "pr = nx.pagerank_numpy(g, alpha=0.85)"
   ]
  },
  {
   "cell_type": "code",
   "execution_count": 8,
   "metadata": {},
   "outputs": [
    {
     "data": {
      "text/plain": [
       "[<matplotlib.lines.Line2D at 0x7fd19b6fce80>]"
      ]
     },
     "execution_count": 8,
     "metadata": {},
     "output_type": "execute_result"
    },
    {
     "data": {
      "image/png": "[encoded data removed]",
      "text/plain": [
       "<matplotlib.figure.Figure at 0x7fd19b6aab00>"
      ]
     },
     "metadata": {},
     "output_type": "display_data"
    }
   ],
   "source": [
    "vals = np.sort([el[1] for el in pr.items()])\n",
    "X = [i+1.0 for i in range(len(vals))]\n",
    "\n",
    "plt.plot(X, vals*1.0)"
   ]
  },
  {
   "cell_type": "code",
   "execution_count": null,
   "metadata": {
    "collapsed": true
   },
   "outputs": [],
   "source": []
  },
  {
   "cell_type": "code",
   "execution_count": null,
   "metadata": {
    "collapsed": true
   },
   "outputs": [],
   "source": []
  },
  {
   "cell_type": "code",
   "execution_count": null,
   "metadata": {
    "collapsed": true
   },
   "outputs": [],
   "source": []
  },
  {
   "cell_type": "code",
   "execution_count": null,
   "metadata": {
    "collapsed": true
   },
   "outputs": [],
   "source": []
  },
  {
   "cell_type": "code",
   "execution_count": null,
   "metadata": {
    "collapsed": true
   },
   "outputs": [],
   "source": []
  }
 ],
 "metadata": {
  "kernelspec": {
   "display_name": "Python 3",
   "language": "python",
   "name": "python3"
  },
  "language_info": {
   "codemirror_mode": {
    "name": "ipython",
    "version": 3
   },
   "file_extension": ".py",
   "mimetype": "text/x-python",
   "name": "python",
   "nbconvert_exporter": "python",
   "pygments_lexer": "ipython3",
   "version": "3.6.3"
  }
 },
 "nbformat": 4,
 "nbformat_minor": 1
}
