{
 "cells": [
  {
   "cell_type": "code",
   "execution_count": 1,
   "metadata": {
    "collapsed": true
   },
   "outputs": [],
   "source": [
    "import json\n",
    "from bs4 import BeautifulSoup\n",
    "\n",
    "import scrapy\n",
    "import scrapy.crawler as crawler\n",
    "from scrapy.spiders import CrawlSpider, Rule\n",
    "from scrapy.linkextractors import LinkExtractor\n",
    "\n",
    "import networkx as nx\n",
    "\n",
    "import matplotlib.pyplot as plt\n",
    "%matplotlib inline\n",
    "\n",
    "import logging\n",
    "logging.getLogger('scrapy').propagate = False\n",
    "\n",
    "SCRAPY_RESULT_FILE = \"graph.json\"\n",
    "SCRAPY_PAGES_COUNT = 10100\n",
    "SCRAPY_LINKS_LIMIT = 100"
   ]
  },
  {
   "cell_type": "markdown",
   "metadata": {},
   "source": [
    "## 1. Скачивание\n",
    "\n",
    "Скачаем примерно 10 тысяч страниц английской википедии. Стоит отметить, что класс `CrawlSpider` определяет метод `parse`, в котором используется `set` для исключения переходов по одним и тем же ссылкам несколько раз. "
   ]
  },
  {
   "cell_type": "code",
   "execution_count": 2,
   "metadata": {
    "collapsed": true
   },
   "outputs": [],
   "source": [
    "class CustomSpider(CrawlSpider):\n",
    "    name = \"custom_spider\"\n",
    "    \n",
    "    allowed_domains = [\"en.wikipedia.org\"]\n",
    "    start_urls = [\n",
    "        \"https://en.wikipedia.org/wiki/Information_retrieval\",\n",
    "        \"https://en.wikipedia.org/wiki/Mein_Kampf\",\n",
    "        \"https://en.wikipedia.org/wiki/Soviet_Union\",\n",
    "        \"https://en.wikipedia.org/wiki/Nineteen_Eighty-Four\",\n",
    "        \"https://en.wikipedia.org/wiki/The_Hero_with_a_Thousand_Faces\",\n",
    "    ]\n",
    "    rules = (\n",
    "        Rule(LinkExtractor(allow=\"https://en\\.wikipedia\\.org/wiki/\" + \\\n",
    "                                 \"(?!(File|Talk|Category|Portal|Special|Wikipedia|Help|Draft|Main_Page)).+\",\n",
    "                           restrict_xpaths='//div[@id=\"mw-content-text\"]',\n",
    "                           canonicalize=True,\n",
    "                           unique=True),\n",
    "             process_links=lambda links: links[:SCRAPY_LINKS_LIMIT],\n",
    "             callback=\"parse_item\", \n",
    "             follow=True),\n",
    "    )\n",
    "    \n",
    "    custom_settings = {\n",
    "        \"CLOSESPIDER_PAGECOUNT\": SCRAPY_PAGES_COUNT,\n",
    "        \"CLOSESPIDER_ERRORCOUNT\": 0,\n",
    "        \"CONCURRENT_REQUESTS\": 16\n",
    "    }\n",
    "\n",
    "    def parse_item(self, response):\n",
    "        try:\n",
    "            title = response.xpath('//h1[@id=\"firstHeading\"]/text()').extract_first()\n",
    "            snippet = BeautifulSoup(response.xpath('//p[1]').extract_first(), \"lxml\").text[:255] + \"...\"\n",
    "            links = [lnk.url for rule in self._rules \n",
    "                     for lnk in rule.process_links(rule.link_extractor.extract_links(response))]\n",
    "            return {'url': response.url, 'title': title, 'snippet': snippet, 'links': links}\n",
    "        except:\n",
    "            return None"
   ]
  },
  {
   "cell_type": "code",
   "execution_count": 3,
   "metadata": {},
   "outputs": [],
   "source": [
    "runner = crawler.CrawlerProcess({\n",
    "    'FEED_FORMAT': 'json',\n",
    "    'FEED_URI': SCRAPY_RESULT_FILE\n",
    "})\n",
    "runner.crawl(CustomSpider)\n",
    "runner.start()"
   ]
  },
  {
   "cell_type": "markdown",
   "metadata": {},
   "source": [
    "## 2. Построение графа\n",
    "\n",
    "При парсинге мы сохраняли для текущей страницы $100$ ссылок на ней, но не по всем из них нам удастся перейти. В граф будем добавлять только те урлы, по которым перешёл наш паук. В получившемся ориентированном графе $9969$ страниц и $43976$ рёбер."
   ]
  },
  {
   "cell_type": "code",
   "execution_count": 4,
   "metadata": {},
   "outputs": [],
   "source": [
    "graph_json = json.load(open(SCRAPY_RESULT_FILE), encoding='utf-8')\n",
    "nodes = {x[\"url\"] for x in graph_json}\n",
    "\n",
    "G = nx.DiGraph()\n",
    "G.add_nodes_from(nodes)\n",
    "\n",
    "def get_edges():\n",
    "    for line in graph_json:\n",
    "        source, targets = line[\"url\"], line[\"links\"]\n",
    "\n",
    "        for target in targets:\n",
    "            if target in nodes:\n",
    "                yield source, target\n",
    "\n",
    "G.add_edges_from(get_edges())"
   ]
  },
  {
   "cell_type": "code",
   "execution_count": 5,
   "metadata": {},
   "outputs": [
    {
     "name": "stdout",
     "output_type": "stream",
     "text": [
      "Number of nodes: 9969\n",
      "Number of edges: 43976\n",
      "Max out degree: 23\n",
      "Max in degree: 135\n"
     ]
    }
   ],
   "source": [
    "print(\"Number of nodes: %d\" % G.number_of_nodes())\n",
    "print(\"Number of edges: %d\" % G.number_of_edges())\n",
    "print(\"Max out degree: %d\" % max(deg for _, deg in G.out_degree(nodes)))\n",
    "print(\"Max in degree: %d\" % max(deg for _, deg in G.in_degree(nodes)))"
   ]
  },
  {
   "cell_type": "markdown",
   "metadata": {},
   "source": [
    "## 3. PageRank\n",
    "\n",
    "__PageRank__ - характеризует \"важность\" страницы. Чем больше ссылок на страницу, тем она \"важнее\". При этом \"вес\" документа определяется через веса ссылок на неё, и можно регулировать эти значения через параметр `alpha`."
   ]
  },
  {
   "cell_type": "code",
   "execution_count": 6,
   "metadata": {
    "collapsed": true
   },
   "outputs": [],
   "source": [
    "docs = {item[\"url\"]: (item[\"title\"], item[\"snippet\"]) for item in graph_json}\n",
    "\n",
    "def print_result(search_result, detail=True):\n",
    "    TITLE_SETTING = \"\\033[1;35m{} {}\\033[0m\"\n",
    "    \n",
    "    for url, rank in search_result:\n",
    "        title, snippet = docs[url]\n",
    "        print(TITLE_SETTING.format(title, rank))\n",
    "        if detail:\n",
    "            print(url)\n",
    "            print(snippet)\n",
    "            print()\n",
    "    "
   ]
  },
  {
   "cell_type": "code",
   "execution_count": 30,
   "metadata": {},
   "outputs": [
    {
     "name": "stdout",
     "output_type": "stream",
     "text": [
      "Max pagerank: 0.007863\n",
      "Min pagerank: 0.000016\n"
     ]
    }
   ],
   "source": [
    "pagerank = nx.pagerank(G, max_iter=200)\n",
    "print(\"Max pagerank: %f\" % max(pagerank.values()))\n",
    "print(\"Min pagerank: %f\" % min(pagerank.values()))"
   ]
  },
  {
   "cell_type": "code",
   "execution_count": 31,
   "metadata": {},
   "outputs": [
    {
     "name": "stdout",
     "output_type": "stream",
     "text": [
      "\u001b[1;35mCBS 0.00786279319118392\u001b[0m\n",
      "https://en.wikipedia.org/wiki/CBS\n",
      "CBS (an initialism of the network's former name, the Columbia Broadcasting System) is an American English language commercial broadcast television network that is a flagship property of CBS Corporation. The company is headquartered at the CBS Building in ...\n",
      "\n",
      "\u001b[1;35mNational Library of the Czech Republic 0.00536512357082438\u001b[0m\n",
      "https://en.wikipedia.org/wiki/National_Library_of_the_Czech_Republic\n",
      "6,919,075 total items[1]...\n",
      "\n",
      "\u001b[1;35mMigration Period 0.004846324032569245\u001b[0m\n",
      "https://en.wikipedia.org/wiki/Migration_Period\n",
      "The Migration Period was a time of widespread migrations of peoples, notably the Germanic tribes and the Huns, within or into Europe in the middle of the first millennium AD. It has also been termed in English by the German loanword Völkerwanderung[2] and...\n",
      "\n",
      "\u001b[1;35mFederal government of the United States 0.003420131201127228\u001b[0m\n",
      "https://en.wikipedia.org/wiki/Federal_government_of_the_United_States\n",
      " ...\n",
      "\n",
      "\u001b[1;35mNational Football League 0.0030185816405407405\u001b[0m\n",
      "https://en.wikipedia.org/wiki/National_Football_League\n",
      "The National Football League (NFL) is a professional American football league consisting of 32 teams, divided equally between the National Football Conference (NFC) and the American Football Conference (AFC). The NFL is one of the four major professional ...\n",
      "\n",
      "\u001b[1;35mTrade association 0.002785357912499496\u001b[0m\n",
      "https://en.wikipedia.org/wiki/Trade_association\n",
      "A trade association, also known as an industry trade group, business association, sector association or industry body, is an organization founded and funded by businesses that operate in a specific industry. An industry trade association participates in p...\n",
      "\n",
      "\u001b[1;35mNational Institute of Standards and Technology 0.0025529893548409902\u001b[0m\n",
      "https://en.wikipedia.org/wiki/National_Institute_of_Standards_and_Technology\n",
      "The National Institute of Standards and Technology (NIST) is a measurement standards laboratory, and a non-regulatory agency of the United States Department of Commerce. Its mission is to promote innovation and industrial competitiveness....\n",
      "\n",
      "\u001b[1;35mThe Honourable 0.0024521418691997037\u001b[0m\n",
      "https://en.wikipedia.org/wiki/The_Honourable\n",
      "The prefix The Honourable or The Honorable (abbreviated to The Hon., Hon. or formerly The Hon'ble—the latter term is still used in South Asia) is a style that is used before the names of certain classes of people. It is considered to be an honorific styli...\n",
      "\n",
      "\u001b[1;35mYemen 0.0024252147774957555\u001b[0m\n",
      "https://en.wikipedia.org/wiki/Yemen\n",
      "Coordinates: 15°N 48°E﻿ / ﻿15°N 48°E﻿ / 15; 48...\n",
      "\n",
      "\u001b[1;35mPublic university 0.002224894895319316\u001b[0m\n",
      "https://en.wikipedia.org/wiki/Public_university\n",
      "A public university is a university that is predominantly funded by public means through a national or subnational government, as opposed to private universities. Whether a national university is considered public varies from one country (or region) to an...\n",
      "\n"
     ]
    }
   ],
   "source": [
    "search_result = sorted(pagerank.items(), key=lambda x: x[1], reverse=True)[:10]\n",
    "print_result(search_result)"
   ]
  },
  {
   "cell_type": "markdown",
   "metadata": {},
   "source": [
    "## 4. Перебор\n",
    "\n",
    "Параметр альфа - коэффициент затухания.\n",
    "$$p^{(k+1)} = \\alpha P^T p^{(k)}$$\n",
    "\n",
    "При уменьшении альфы значения весов уменьшаются, но в топ $10$ попадают примерно одни и те же статьи, но мб в разном порядке.\n",
    "\n",
    "#### alpha=0.95"
   ]
  },
  {
   "cell_type": "code",
   "execution_count": 32,
   "metadata": {},
   "outputs": [
    {
     "name": "stdout",
     "output_type": "stream",
     "text": [
      "Max pagerank: 0.011680\n",
      "Min pagerank: 0.000005\n"
     ]
    }
   ],
   "source": [
    "pagerank = nx.pagerank(G, max_iter=200, alpha=0.95)\n",
    "print(\"Max pagerank: %f\" % max(pagerank.values()))\n",
    "print(\"Min pagerank: %f\" % min(pagerank.values()))"
   ]
  },
  {
   "cell_type": "code",
   "execution_count": 33,
   "metadata": {},
   "outputs": [
    {
     "name": "stdout",
     "output_type": "stream",
     "text": [
      "\u001b[1;35mCBS 0.011680174241560044\u001b[0m\n",
      "\u001b[1;35mMigration Period 0.01126117634817252\u001b[0m\n",
      "\u001b[1;35mNational Library of the Czech Republic 0.008750160474165568\u001b[0m\n",
      "\u001b[1;35mTrade association 0.0065439401734502444\u001b[0m\n",
      "\u001b[1;35mFederal government of the United States 0.006306021547257068\u001b[0m\n",
      "\u001b[1;35mNational Institute of Standards and Technology 0.004825462635199798\u001b[0m\n",
      "\u001b[1;35mThe Honourable 0.004146829114356125\u001b[0m\n",
      "\u001b[1;35mYemen 0.0038755613880403993\u001b[0m\n",
      "\u001b[1;35mPublic university 0.0036307092044255886\u001b[0m\n",
      "\u001b[1;35mRocky Mountains 0.0031118403210819083\u001b[0m\n"
     ]
    }
   ],
   "source": [
    "search_result = sorted(pagerank.items(), key=lambda x: x[1], reverse=True)[:10]\n",
    "print_result(search_result, detail=False)"
   ]
  },
  {
   "cell_type": "markdown",
   "metadata": {},
   "source": [
    "#### alpha=0.5"
   ]
  },
  {
   "cell_type": "code",
   "execution_count": 34,
   "metadata": {},
   "outputs": [
    {
     "name": "stdout",
     "output_type": "stream",
     "text": [
      "Max pagerank: 0.002591\n",
      "Min pagerank: 0.000051\n"
     ]
    }
   ],
   "source": [
    "pagerank = nx.pagerank(G, max_iter=200, alpha=0.5)\n",
    "print(\"Max pagerank: %f\" % max(pagerank.values()))\n",
    "print(\"Min pagerank: %f\" % min(pagerank.values()))"
   ]
  },
  {
   "cell_type": "code",
   "execution_count": 35,
   "metadata": {},
   "outputs": [
    {
     "name": "stdout",
     "output_type": "stream",
     "text": [
      "\u001b[1;35mCBS 0.0025914951767385904\u001b[0m\n",
      "\u001b[1;35mNational Football League 0.0017498024708572774\u001b[0m\n",
      "\u001b[1;35mNational Library of the Czech Republic 0.0014585498875163852\u001b[0m\n",
      "\u001b[1;35mDutch language 0.0012028404588483213\u001b[0m\n",
      "\u001b[1;35mBiblioteca Nacional de España 0.000943569623814219\u001b[0m\n",
      "\u001b[1;35mFederal government of the United States 0.0009094120038206237\u001b[0m\n",
      "\u001b[1;35mNational Library of Australia 0.0008815056584189986\u001b[0m\n",
      "\u001b[1;35mThe Honourable 0.000744965195203609\u001b[0m\n",
      "\u001b[1;35mYemen 0.0007352903525798878\u001b[0m\n",
      "\u001b[1;35mVenice 0.0007161686692459154\u001b[0m\n"
     ]
    }
   ],
   "source": [
    "search_result = sorted(pagerank.items(), key=lambda x: x[1], reverse=True)[:10]\n",
    "print_result(search_result, detail=False)"
   ]
  },
  {
   "cell_type": "markdown",
   "metadata": {},
   "source": [
    "#### alpha=0.3"
   ]
  },
  {
   "cell_type": "code",
   "execution_count": 36,
   "metadata": {},
   "outputs": [
    {
     "name": "stdout",
     "output_type": "stream",
     "text": [
      "Max pagerank: 0.001301\n",
      "Min pagerank: 0.000071\n"
     ]
    }
   ],
   "source": [
    "pagerank = nx.pagerank(G, max_iter=200, alpha=0.3)\n",
    "print(\"Max pagerank: %f\" % max(pagerank.values()))\n",
    "print(\"Min pagerank: %f\" % min(pagerank.values()))"
   ]
  },
  {
   "cell_type": "code",
   "execution_count": 37,
   "metadata": {},
   "outputs": [
    {
     "name": "stdout",
     "output_type": "stream",
     "text": [
      "\u001b[1;35mCBS 0.0013009514398928982\u001b[0m\n",
      "\u001b[1;35mNational Football League 0.0010764481714392294\u001b[0m\n",
      "\u001b[1;35mDutch language 0.0007685523097406355\u001b[0m\n",
      "\u001b[1;35mNational Library of the Czech Republic 0.000696281497795263\u001b[0m\n",
      "\u001b[1;35mBiblioteca Nacional de España 0.0006231461154414767\u001b[0m\n",
      "\u001b[1;35mNational Library of Australia 0.0005765654672805387\u001b[0m\n",
      "\u001b[1;35mVenice 0.000482374042331735\u001b[0m\n",
      "\u001b[1;35mFederal government of the United States 0.00046856719458300203\u001b[0m\n",
      "\u001b[1;35mGeneva 0.0004047777800338457\u001b[0m\n",
      "\u001b[1;35mThe Honourable 0.0004021352654266985\u001b[0m\n"
     ]
    }
   ],
   "source": [
    "search_result = sorted(pagerank.items(), key=lambda x: x[1], reverse=True)[:10]\n",
    "print_result(search_result, detail=False)"
   ]
  },
  {
   "cell_type": "markdown",
   "metadata": {},
   "source": [
    "## 5. HITS\n",
    "\n",
    "__Авторитетный документ__ - документ, на который ссылается много других.\n",
    "\n",
    "__Хаб-документ__ - документ, содержащий много ссылок на авторитетные документы.\n",
    "\n",
    "Хоть получается, что идейно авторитетность и pagerank обозначают нечто схожее, но на практике в топе оказались разные документы."
   ]
  },
  {
   "cell_type": "code",
   "execution_count": 26,
   "metadata": {},
   "outputs": [
    {
     "name": "stdout",
     "output_type": "stream",
     "text": [
      "HITS hubs\n",
      "Max hubs: 0.050676\n",
      "Min hubs: 0.000000\n",
      "HITS authorities\n",
      "Max authorities: 0.054090\n",
      "Min authorities: 0.054090\n"
     ]
    }
   ],
   "source": [
    "hits = nx.hits(G, max_iter=200)\n",
    "print(\"HITS hubs\")\n",
    "print(\"Max hubs: %f\" % max(hits[0].values()))\n",
    "print(\"Min hubs: %f\" % min(hits[0].values()))\n",
    "print(\"HITS authorities\")\n",
    "print(\"Max authorities: %f\" % max(hits[1].values()))\n",
    "print(\"Min authorities: %f\" % max(hits[1].values()))"
   ]
  },
  {
   "cell_type": "markdown",
   "metadata": {},
   "source": [
    "#### authorities "
   ]
  },
  {
   "cell_type": "code",
   "execution_count": 27,
   "metadata": {},
   "outputs": [
    {
     "name": "stdout",
     "output_type": "stream",
     "text": [
      "\u001b[1;35mCentral Japan Railway Company 0.05409019464372503\u001b[0m\n",
      "https://en.wikipedia.org/wiki/Central_Japan_Railway_Company\n",
      "The Central Japan Railway Company (東海旅客鉄道株式会社, Tōkai Ryokaku Tetsudō Kabushiki-gaisha) is the main railway company operating in the Chūbu (Nagoya) region of central Japan. It is officially abbreviated in English as JR Central and in Japanese as JR Tōkai (...\n",
      "\n",
      "\u001b[1;35mBiwajima Station 0.05156056180805734\u001b[0m\n",
      "https://en.wikipedia.org/wiki/Biwajima_Station\n",
      "Biwajima Station (枇杷島駅, Biwajima-eki) is a railway station in Kiyosu, Aichi Prefecture, Japan. The station is a union station served by the Tōkaidō Main Line and the Jōhoku Line. The station is 370.0 rail kilometres from Tokyo Station on the Tōkaidō Main ...\n",
      "\n",
      "\u001b[1;35mInazawa Station 0.05019839899978299\u001b[0m\n",
      "https://en.wikipedia.org/wiki/Inazawa_Station\n",
      "Inazawa Station (稲沢駅, Inazawa-eki) is a railway station in Inazawa, Aichi Prefecture, Japan, on the Tōkaidō Main Line. The station is 377.1 rail kilometers from Tokyo....\n",
      "\n",
      "\u001b[1;35mShin-Kambara Station 0.05019839899978299\u001b[0m\n",
      "https://en.wikipedia.org/wiki/Shin-Kambara_Station\n",
      "Shin-Kambara Station (新蒲原駅, Shin-Kambara eki) is a railway station on the Tōkaidō Main Line of Central Japan Railway Company in Shimizu-ku, Shizuoka city, Shizuoka Prefecture, Japan. The station is 152.5 rail kilometers from Tokyo Station....\n",
      "\n",
      "\u001b[1;35mKyōwa Station 0.05019839899978299\u001b[0m\n",
      "https://en.wikipedia.org/wiki/Ky%C5%8Dwa_Station\n",
      "Kyōwa Station (共和駅, Kyōwa-eki) operated by the Central Japan Railway Company in Ōbu, Aichi Prefecture, Japan. The station is 349.5 rail kilometers from the terminus of the Tōkaidō Main Line at Tokyo Station....\n",
      "\n",
      "\u001b[1;35mYui Station 0.05019839899978299\u001b[0m\n",
      "https://en.wikipedia.org/wiki/Yui_Station\n",
      "Yui Station (由比駅, Yui eki) is a railway station on the Tōkaidō Main Line of Central Japan Railway Company in Shimizu-ku, Shizuoka city, Shizuoka Prefecture, Japan. The station is 158.4 rail kilometers from Tokyo Station....\n",
      "\n",
      "\u001b[1;35mKusanagi Station (JR Central) 0.05019839899978299\u001b[0m\n",
      "https://en.wikipedia.org/wiki/Kusanagi_Station_(JR_Central)\n",
      "Kusanagi Station (草薙駅, Kusanagi eki) is a train station in Shimizu-ku, Shizuoka, Shizuoka Prefecture, Japan. It is operated by Central Japan Railway Company (JR Central). The station is 174.2 rail kilometers from Tokyo Station....\n",
      "\n",
      "\u001b[1;35mFujikawa Station (Shizuoka) 0.05019839899978299\u001b[0m\n",
      "https://en.wikipedia.org/wiki/Fujikawa_Station_(Shizuoka)\n",
      "Fujikawa Station (富士川駅, Fujikawa eki) is a railway station on the Tōkaidō Main Line of Central Japan Railway Company in Fuji, Shizuoka Prefecture, Japan. The station is 149.7 rail kilometers from Tokyo Station....\n",
      "\n",
      "\u001b[1;35mShimizu Station (Shizuoka) 0.05019839899978299\u001b[0m\n",
      "https://en.wikipedia.org/wiki/Shimizu_Station_(Shizuoka)\n",
      "Shimizu Station (清水駅, Shimizu-eki) is a railway station on the Tōkaidō Main Line of Central Japan Railway Company in Shimizu-ku, Shizuoka City, Shizuoka Prefecture, Japan. The station is 169 rail kilometers from Tokyo Station....\n",
      "\n",
      "\u001b[1;35mOwari-Ichinomiya Station 0.05019839899978299\u001b[0m\n",
      "https://en.wikipedia.org/wiki/Owari-Ichinomiya_Station\n",
      "Owari-Ichinomiya Station (尾張一宮駅, Owari-Ichinomiya-eki) is a railway station on the Tokaido Main Line in Ichinomiya, Aichi, Japan, operated by the Central Japan Railway Company (JR Central)....\n",
      "\n"
     ]
    }
   ],
   "source": [
    "search_result = sorted(hits[1].items(), key=lambda x: x[1], reverse=True)[:10]\n",
    "print_result(search_result)"
   ]
  },
  {
   "cell_type": "markdown",
   "metadata": {
    "collapsed": true
   },
   "source": [
    "#### hubs"
   ]
  },
  {
   "cell_type": "code",
   "execution_count": 28,
   "metadata": {},
   "outputs": [
    {
     "name": "stdout",
     "output_type": "stream",
     "text": [
      "\u001b[1;35mOwari-Ichinomiya Station 0.05067649383671277\u001b[0m\n",
      "\u001b[1;35mAtsuta Station 0.0506632750581518\u001b[0m\n",
      "\u001b[1;35mInazawa Station 0.05051134822709755\u001b[0m\n",
      "\u001b[1;35mShin-Kambara Station 0.05051134822709755\u001b[0m\n",
      "\u001b[1;35mKyōwa Station 0.05051134822709755\u001b[0m\n",
      "\u001b[1;35mOtōbashi Station 0.05051134822709755\u001b[0m\n",
      "\u001b[1;35mKisogawa Station 0.05051134822709755\u001b[0m\n",
      "\u001b[1;35mŌmi-Nagaoka Station 0.05051134822709755\u001b[0m\n",
      "\u001b[1;35mSamegai Station 0.050063627563415904\u001b[0m\n",
      "\u001b[1;35mKashiwabara Station 0.04992118770877782\u001b[0m\n"
     ]
    }
   ],
   "source": [
    "search_result = sorted(hits[0].items(), key=lambda x: x[1], reverse=True)[:10]\n",
    "print_result(search_result, detail=False)"
   ]
  },
  {
   "cell_type": "markdown",
   "metadata": {},
   "source": [
    "#### avg"
   ]
  },
  {
   "cell_type": "code",
   "execution_count": 29,
   "metadata": {},
   "outputs": [
    {
     "name": "stdout",
     "output_type": "stream",
     "text": [
      "\u001b[1;35mOwari-Ichinomiya Station 0.05043744641824788\u001b[0m\n",
      "\u001b[1;35mAtsuta Station 0.05043083702896739\u001b[0m\n",
      "\u001b[1;35mInazawa Station 0.050354873613440265\u001b[0m\n",
      "\u001b[1;35mShin-Kambara Station 0.050354873613440265\u001b[0m\n",
      "\u001b[1;35mKyōwa Station 0.050354873613440265\u001b[0m\n",
      "\u001b[1;35mOtōbashi Station 0.050354873613440265\u001b[0m\n",
      "\u001b[1;35mKisogawa Station 0.050354873613440265\u001b[0m\n",
      "\u001b[1;35mBiwajima Station 0.049064500670394175\u001b[0m\n",
      "\u001b[1;35mNishi-Gifu Station 0.04841888322851266\u001b[0m\n",
      "\u001b[1;35mYui Station 0.048194037789082295\u001b[0m\n"
     ]
    }
   ],
   "source": [
    "search_result = sorted(((k, (hits[0][k] + hits[1][k]) / 2.) for k in nodes), key=lambda x: x[1], reverse=True)[:10]\n",
    "print_result(search_result, detail=False)"
   ]
  },
  {
   "cell_type": "code",
   "execution_count": null,
   "metadata": {
    "collapsed": true
   },
   "outputs": [],
   "source": []
  }
 ],
 "metadata": {
  "kernelspec": {
   "display_name": "Python 3",
   "language": "python",
   "name": "python3"
  },
  "language_info": {
   "codemirror_mode": {
    "name": "ipython",
    "version": 3
   },
   "file_extension": ".py",
   "mimetype": "text/x-python",
   "name": "python",
   "nbconvert_exporter": "python",
   "pygments_lexer": "ipython3",
   "version": "3.6.3"
  }
 },
 "nbformat": 4,
 "nbformat_minor": 2
}
