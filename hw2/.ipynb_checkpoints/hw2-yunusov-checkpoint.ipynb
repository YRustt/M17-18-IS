{
 "cells": [
  {
   "cell_type": "code",
   "execution_count": 17,
   "metadata": {},
   "outputs": [],
   "source": [
    "import logging\n",
    "logging.getLogger('scrapy').propagate = False\n",
    "\n",
    "import json\n",
    "\n",
    "import scrapy\n",
    "from scrapy.spiders import CrawlSpider, Rule\n",
    "from scrapy.linkextractors import LinkExtractor\n",
    "import scrapy.crawler as crawler\n",
    "\n",
    "import networkx as nx"
   ]
  },
  {
   "cell_type": "code",
   "execution_count": 2,
   "metadata": {},
   "outputs": [],
   "source": [
    "class CustomLinkExtractor(LinkExtractor):\n",
    "    def extract_links(self, response):\n",
    "        links = super().extract_links(response)\n",
    "        return [(link, response.url) for link in links]\n",
    "\n",
    "\n",
    "class CustomSpider(CrawlSpider):\n",
    "    name = \"custom_spider\"\n",
    "    \n",
    "    allowed_domains = [\"wikipedia.org\"]\n",
    "    start_urls = [\n",
    "        \"https://en.wikipedia.org/wiki/Information_retrieval\",\n",
    "        \"https://en.wikipedia.org/wiki/Mein_Kampf\",\n",
    "        \"https://en.wikipedia.org/wiki/Soviet_Union\",\n",
    "        \"https://en.wikipedia.org/wiki/Nineteen_Eighty-Four\",\n",
    "        \"https://en.wikipedia.org/wiki/The_Hero_with_a_Thousand_Faces\",\n",
    "    ]\n",
    "    rules = (\n",
    "        Rule(CustomLinkExtractor(allow=\"https://.+\\.wikipedia\\.org/wiki/\" + \\\n",
    "                                       \"(?!((File|Talk|Category|Portal|Special|Wikipedia|Help|Draft):|Main_Page)).+\",\n",
    "                                 restrict_xpaths='(//div[@id=\"mw-content-text\"][position() < 100])'),\n",
    "             callback=\"parse_item\", follow=True),\n",
    "    )\n",
    "    \n",
    "    custom_settings = {\n",
    "        \"CLOSESPIDER_PAGECOUNT\": 1000,\n",
    "        \"CLOSESPIDER_ERRORCOUNT\": 0,\n",
    "        \"CONCURRENT_REQUESTS\": 16\n",
    "    }\n",
    "\n",
    "\n",
    "    def _build_request(self, rule, link):\n",
    "        r = super()._build_request(rule, link[0])\n",
    "        r.meta.update(parent_url=link[1])\n",
    "        return r\n",
    " \n",
    "    def parse_item(self, response):\n",
    "        return {'url': response.url, 'parent_url': response.request.meta.get(\"parent_url\", \"\")}"
   ]
  },
  {
   "cell_type": "code",
   "execution_count": 3,
   "metadata": {},
   "outputs": [],
   "source": [
    "runner = crawler.CrawlerProcess({\n",
    "    'FEED_FORMAT': 'json',\n",
    "    'FEED_URI': 'result.json'\n",
    "})\n",
    "runner.crawl(CustomSpider)\n",
    "runner.start()"
   ]
  },
  {
   "cell_type": "code",
   "execution_count": 24,
   "metadata": {},
   "outputs": [],
   "source": [
    "graph_json = json.load(open(\"result.json\"))\n",
    "G = nx.Graph()\n",
    "nodes = {}\n",
    "\n",
    "def get_edges():\n",
    "    i = 0\n",
    "    for edge in graph_json:\n",
    "        source, target = edge[\"parent_url\"], edge[\"url\"]\n",
    "        if nodes.get(source) is None:\n",
    "            nodes[source] = i\n",
    "            i += 1\n",
    "\n",
    "        if nodes.get(target) is None:\n",
    "            nodes[target] = i\n",
    "            i += 1\n",
    "    \n",
    "        yield nodes[source], nodes[target]\n",
    "\n",
    "\n",
    "G.add_edges_from(get_edges())"
   ]
  },
  {
   "cell_type": "code",
   "execution_count": null,
   "metadata": {},
   "outputs": [],
   "source": [
    "%matplotlib inline\n",
    "nx.draw(G, with_labels=True, font_weight='bold')"
   ]
  },
  {
   "cell_type": "code",
   "execution_count": null,
   "metadata": {
    "collapsed": true
   },
   "outputs": [],
   "source": []
  }
 ],
 "metadata": {
  "kernelspec": {
   "display_name": "Python 3",
   "language": "python",
   "name": "python3"
  },
  "language_info": {
   "codemirror_mode": {
    "name": "ipython",
    "version": 3
   },
   "file_extension": ".py",
   "mimetype": "text/x-python",
   "name": "python",
   "nbconvert_exporter": "python",
   "pygments_lexer": "ipython3",
   "version": "3.6.3"
  }
 },
 "nbformat": 4,
 "nbformat_minor": 2
}
