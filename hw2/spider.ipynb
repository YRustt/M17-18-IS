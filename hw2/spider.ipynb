{
 "cells": [
  {
   "cell_type": "code",
   "execution_count": 1,
   "metadata": {
    "collapsed": true
   },
   "outputs": [],
   "source": [
    "import scrapy\n",
    "from bs4 import BeautifulSoup\n",
    "#from wiki_demo.items import WikiDemoItem\n",
    "\n",
    "import re\n",
    "\n",
    "class FirstLinkSpider(scrapy.Spider):\n",
    "    name = 'first_link'\n",
    "    start_urls = ['https://en.wikipedia.org/wiki/Information_retrieval']\n",
    "    visited_urls = set()\n",
    "    \n",
    "    header_selector = 'h1#firstHeading.firstHeading::text'\n",
    "    body_link_selector = 'div#mw-content-text.mw-content-ltr a::attr(\"href\")'\n",
    "    allowed_re = re.compile('https://.+\\.wikipedia\\.org/wiki/'\n",
    "                            '(?!((File|Talk|Category|Portal|Special|Wikipedia'\n",
    "                            '|Help|Draft):|Main_Page)).+')\n",
    "       \n",
    "    def parse(self, response):\n",
    "        try:\n",
    "#             snippet = BeautifulSoup(response.xpath('//div[@id=\"mw-content-text\"]/p[1]').extract_first(), \"lxml\").text[:255]+\"...\"\n",
    "            title = response.css(self.header_selector).extract_first().encode('utf-8')\n",
    "            print(title)\n",
    "            yield {\n",
    "                'title': title,\n",
    "                'url': response.url,\n",
    "                'snippet': snippet\n",
    "            }\n",
    "        except:\n",
    "            pass\n",
    "        self.visited_urls.add(response.url)\n",
    "        if response.url == 'https://en.wikipedia.org/wiki/Philosophy':\n",
    "            raise StopIteration\n",
    "\n",
    "        for link in response.css(self.body_link_selector).extract():\n",
    "            if link[0] == '#':\n",
    "                continue\n",
    "            next_url = response.urljoin(link)\n",
    "            if self.allowed_re.match(next_url) and not next_url in self.visited_urls:\n",
    "                yield scrapy.Request(next_url, callback=self.parse)\n",
    "                break\n",
    "        "
   ]
  },
  {
   "cell_type": "code",
   "execution_count": 2,
   "metadata": {},
   "outputs": [
    {
     "name": "stderr",
     "output_type": "stream",
     "text": [
      "2018-04-13 12:51:07 [scrapy.utils.log] INFO: Scrapy 1.5.0 started (bot: scrapybot)\n",
      "2018-04-13 12:51:07 [scrapy.utils.log] INFO: Versions: lxml 4.1.0.0, libxml2 2.9.4, cssselect 1.0.3, parsel 1.4.0, w3lib 1.19.0, Twisted 17.9.0, Python 3.6.3 |Anaconda custom (64-bit)| (default, Oct 13 2017, 12:02:49) - [GCC 7.2.0], pyOpenSSL 17.2.0 (OpenSSL 1.0.2n  7 Dec 2017), cryptography 2.0.3, Platform Linux-4.13.0-38-generic-x86_64-with-debian-stretch-sid\n",
      "2018-04-13 12:51:07 [scrapy.crawler] INFO: Overridden settings: {'USER_AGENT': 'Mozilla/4.0 (compatible; MSIE 7.0; Windows NT 5.1)'}\n",
      "2018-04-13 12:51:07 [scrapy.middleware] INFO: Enabled extensions:\n",
      "['scrapy.extensions.corestats.CoreStats',\n",
      " 'scrapy.extensions.telnet.TelnetConsole',\n",
      " 'scrapy.extensions.memusage.MemoryUsage',\n",
      " 'scrapy.extensions.logstats.LogStats']\n",
      "2018-04-13 12:51:07 [scrapy.middleware] INFO: Enabled downloader middlewares:\n",
      "['scrapy.downloadermiddlewares.httpauth.HttpAuthMiddleware',\n",
      " 'scrapy.downloadermiddlewares.downloadtimeout.DownloadTimeoutMiddleware',\n",
      " 'scrapy.downloadermiddlewares.defaultheaders.DefaultHeadersMiddleware',\n",
      " 'scrapy.downloadermiddlewares.useragent.UserAgentMiddleware',\n",
      " 'scrapy.downloadermiddlewares.retry.RetryMiddleware',\n",
      " 'scrapy.downloadermiddlewares.redirect.MetaRefreshMiddleware',\n",
      " 'scrapy.downloadermiddlewares.httpcompression.HttpCompressionMiddleware',\n",
      " 'scrapy.downloadermiddlewares.redirect.RedirectMiddleware',\n",
      " 'scrapy.downloadermiddlewares.cookies.CookiesMiddleware',\n",
      " 'scrapy.downloadermiddlewares.httpproxy.HttpProxyMiddleware',\n",
      " 'scrapy.downloadermiddlewares.stats.DownloaderStats']\n",
      "2018-04-13 12:51:07 [scrapy.middleware] INFO: Enabled spider middlewares:\n",
      "['scrapy.spidermiddlewares.httperror.HttpErrorMiddleware',\n",
      " 'scrapy.spidermiddlewares.offsite.OffsiteMiddleware',\n",
      " 'scrapy.spidermiddlewares.referer.RefererMiddleware',\n",
      " 'scrapy.spidermiddlewares.urllength.UrlLengthMiddleware',\n",
      " 'scrapy.spidermiddlewares.depth.DepthMiddleware']\n",
      "2018-04-13 12:51:07 [scrapy.middleware] INFO: Enabled item pipelines:\n",
      "[]\n",
      "2018-04-13 12:51:07 [scrapy.core.engine] INFO: Spider opened\n",
      "2018-04-13 12:51:07 [scrapy.extensions.logstats] INFO: Crawled 0 pages (at 0 pages/min), scraped 0 items (at 0 items/min)\n",
      "2018-04-13 12:51:07 [scrapy.extensions.telnet] DEBUG: Telnet console listening on 127.0.0.1:6023\n",
      "2018-04-13 12:51:08 [scrapy.core.engine] DEBUG: Crawled (200) <GET https://en.wikipedia.org/wiki/Information_retrieval> (referer: None)\n"
     ]
    },
    {
     "name": "stdout",
     "output_type": "stream",
     "text": [
      "b'Information retrieval'\n"
     ]
    },
    {
     "name": "stderr",
     "output_type": "stream",
     "text": [
      "2018-04-13 12:51:08 [scrapy.core.engine] DEBUG: Crawled (200) <GET https://en.wikipedia.org/wiki/Information> (referer: https://en.wikipedia.org/wiki/Information_retrieval)\n",
      "2018-04-13 12:51:08 [scrapy.core.engine] DEBUG: Crawled (200) <GET https://en.wikipedia.org/wiki/Dagbladet_Information> (referer: https://en.wikipedia.org/wiki/Information)\n"
     ]
    },
    {
     "name": "stdout",
     "output_type": "stream",
     "text": [
      "b'Information'\n"
     ]
    },
    {
     "name": "stderr",
     "output_type": "stream",
     "text": [
      "2018-04-13 12:51:09 [scrapy.core.engine] DEBUG: Crawled (200) <GET https://en.wikipedia.org/wiki/Daily_newspaper> (referer: https://en.wikipedia.org/wiki/Dagbladet_Information)\n",
      "2018-04-13 12:51:09 [scrapy.core.engine] DEBUG: Crawled (200) <GET https://en.wikipedia.org/wiki/Journalism> (referer: https://en.wikipedia.org/wiki/Daily_newspaper)\n"
     ]
    },
    {
     "name": "stdout",
     "output_type": "stream",
     "text": [
      "b'Newspaper'\n"
     ]
    },
    {
     "name": "stderr",
     "output_type": "stream",
     "text": [
      "2018-04-13 12:51:09 [scrapy.core.engine] DEBUG: Crawled (200) <GET https://en.wikipedia.org/wiki/Reportage_(disambiguation)> (referer: https://en.wikipedia.org/wiki/Journalism)\n"
     ]
    },
    {
     "name": "stdout",
     "output_type": "stream",
     "text": [
      "b'Journalism'\n"
     ]
    },
    {
     "name": "stderr",
     "output_type": "stream",
     "text": [
      "2018-04-13 12:51:09 [scrapy.core.engine] DEBUG: Crawled (200) <GET https://en.wikipedia.org/wiki/Reportage> (referer: https://en.wikipedia.org/wiki/Reportage_(disambiguation))\n"
     ]
    },
    {
     "name": "stdout",
     "output_type": "stream",
     "text": [
      "b'Reportage (disambiguation)'\n",
      "b'Journalism'\n"
     ]
    },
    {
     "name": "stderr",
     "output_type": "stream",
     "text": [
      "2018-04-13 12:51:10 [scrapy.core.engine] DEBUG: Crawled (200) <GET https://en.wikipedia.org/wiki/News> (referer: https://en.wikipedia.org/wiki/Reportage)\n",
      "2018-04-13 12:51:10 [scrapy.core.engine] DEBUG: Crawled (200) <GET https://en.wikipedia.org/wiki/News_(disambiguation)> (referer: https://en.wikipedia.org/wiki/News)\n"
     ]
    },
    {
     "name": "stdout",
     "output_type": "stream",
     "text": [
      "b'News'\n"
     ]
    },
    {
     "name": "stderr",
     "output_type": "stream",
     "text": [
      "2018-04-13 12:51:10 [scrapy.core.engine] DEBUG: Crawled (200) <GET https://en.wikipedia.org/wiki/NEWS_(Austrian_magazine)> (referer: https://en.wikipedia.org/wiki/News_(disambiguation))\n"
     ]
    },
    {
     "name": "stdout",
     "output_type": "stream",
     "text": [
      "b'News (disambiguation)'\n"
     ]
    },
    {
     "name": "stderr",
     "output_type": "stream",
     "text": [
      "2018-04-13 12:51:11 [scrapy.core.engine] DEBUG: Crawled (200) <GET https://en.wikipedia.org/wiki/News_magazine> (referer: https://en.wikipedia.org/wiki/NEWS_(Austrian_magazine))\n"
     ]
    },
    {
     "name": "stdout",
     "output_type": "stream",
     "text": [
      "b' (Austrian magazine)'\n"
     ]
    },
    {
     "name": "stderr",
     "output_type": "stream",
     "text": [
      "2018-04-13 12:51:11 [scrapy.core.engine] DEBUG: Crawled (200) <GET https://en.wikipedia.org/wiki/News_Magazine_(TV_series)> (referer: https://en.wikipedia.org/wiki/News_magazine)\n"
     ]
    },
    {
     "name": "stdout",
     "output_type": "stream",
     "text": [
      "b'News magazine'\n"
     ]
    },
    {
     "name": "stderr",
     "output_type": "stream",
     "text": [
      "2018-04-13 12:51:11 [scrapy.core.engine] DEBUG: Crawled (200) <GET https://en.wikipedia.org/wiki/HSV_(TV_station)> (referer: https://en.wikipedia.org/wiki/News_Magazine_(TV_series))\n"
     ]
    },
    {
     "name": "stdout",
     "output_type": "stream",
     "text": [
      "b' (TV series)'\n",
      "b'HSV (TV station)'\n"
     ]
    },
    {
     "name": "stderr",
     "output_type": "stream",
     "text": [
      "2018-04-13 12:51:12 [scrapy.core.engine] DEBUG: Crawled (200) <GET https://en.wikipedia.org/wiki/Melbourne> (referer: https://en.wikipedia.org/wiki/HSV_(TV_station))\n",
      "2018-04-13 12:51:12 [scrapy.core.engine] DEBUG: Crawled (200) <GET https://en.wikipedia.org/wiki/Melbourne_City_Centre> (referer: https://en.wikipedia.org/wiki/Melbourne)\n"
     ]
    },
    {
     "name": "stdout",
     "output_type": "stream",
     "text": [
      "b'Melbourne'\n"
     ]
    },
    {
     "name": "stderr",
     "output_type": "stream",
     "text": [
      "2018-04-13 12:51:12 [scrapy.core.engine] DEBUG: Crawled (200) <GET https://en.wikipedia.org/wiki/City_of_Melbourne> (referer: https://en.wikipedia.org/wiki/Melbourne_City_Centre)\n"
     ]
    },
    {
     "name": "stdout",
     "output_type": "stream",
     "text": [
      "b'Melbourne City Centre'\n",
      "b'City of Melbourne'\n"
     ]
    },
    {
     "name": "stderr",
     "output_type": "stream",
     "text": [
      "2018-04-13 12:51:13 [scrapy.core.engine] DEBUG: Crawled (200) <GET https://en.wikipedia.org/wiki/Victoria_(Australia)> (referer: https://en.wikipedia.org/wiki/City_of_Melbourne)\n",
      "2018-04-13 12:51:13 [scrapy.core.engine] DEBUG: Crawled (200) <GET https://en.wikipedia.org/wiki/Flag_of_Victoria> (referer: https://en.wikipedia.org/wiki/Victoria_(Australia))\n"
     ]
    },
    {
     "name": "stdout",
     "output_type": "stream",
     "text": [
      "b'Victoria (Australia)'\n"
     ]
    },
    {
     "name": "stderr",
     "output_type": "stream",
     "text": [
      "2018-04-13 12:51:13 [scrapy.core.engine] DEBUG: Crawled (200) <GET https://en.wikipedia.org/wiki/Glossary_of_vexillology> (referer: https://en.wikipedia.org/wiki/Flag_of_Victoria)\n"
     ]
    },
    {
     "name": "stdout",
     "output_type": "stream",
     "text": [
      "b'Flag of Victoria'\n"
     ]
    },
    {
     "name": "stderr",
     "output_type": "stream",
     "text": [
      "2018-04-13 12:51:13 [scrapy.core.engine] DEBUG: Crawled (200) <GET https://en.wikipedia.org/wiki/Nomenclature> (referer: https://en.wikipedia.org/wiki/Glossary_of_vexillology)\n"
     ]
    },
    {
     "name": "stdout",
     "output_type": "stream",
     "text": [
      "b'Glossary of vexillology'\n"
     ]
    },
    {
     "name": "stderr",
     "output_type": "stream",
     "text": [
      "2018-04-13 12:51:14 [scrapy.core.engine] DEBUG: Crawled (200) <GET https://en.wikipedia.org/wiki/Nomenklatura> (referer: https://en.wikipedia.org/wiki/Nomenclature)\n"
     ]
    },
    {
     "name": "stdout",
     "output_type": "stream",
     "text": [
      "b'Nomenclature'\n"
     ]
    },
    {
     "name": "stderr",
     "output_type": "stream",
     "text": [
      "2018-04-13 12:51:14 [scrapy.core.engine] DEBUG: Crawled (200) <GET https://en.wikipedia.org/wiki/Russian_language> (referer: https://en.wikipedia.org/wiki/Nomenklatura)\n"
     ]
    },
    {
     "name": "stdout",
     "output_type": "stream",
     "text": [
      "b'Nomenklatura'\n"
     ]
    },
    {
     "name": "stderr",
     "output_type": "stream",
     "text": [
      "2018-04-13 12:51:14 [scrapy.core.engine] DEBUG: Crawled (200) <GET https://en.wikipedia.org/wiki/Rusyn_language> (referer: https://en.wikipedia.org/wiki/Russian_language)\n"
     ]
    },
    {
     "name": "stdout",
     "output_type": "stream",
     "text": [
      "b'Russian language'\n"
     ]
    },
    {
     "name": "stderr",
     "output_type": "stream",
     "text": [
      "2018-04-13 12:51:14 [scrapy.core.engine] DEBUG: Crawled (200) <GET https://en.wikipedia.org/wiki/Ruthenian_language> (referer: https://en.wikipedia.org/wiki/Rusyn_language)\n"
     ]
    },
    {
     "name": "stdout",
     "output_type": "stream",
     "text": [
      "b'Rusyn language'\n"
     ]
    },
    {
     "name": "stderr",
     "output_type": "stream",
     "text": [
      "2018-04-13 12:51:15 [scrapy.core.engine] DEBUG: Crawled (200) <GET https://en.wikipedia.org/wiki/Classical_Belarusian> (referer: https://en.wikipedia.org/wiki/Ruthenian_language)\n"
     ]
    },
    {
     "name": "stdout",
     "output_type": "stream",
     "text": [
      "b'Ruthenian language'\n",
      "b'Tara\\xc5\\xa1kievica'\n"
     ]
    },
    {
     "name": "stderr",
     "output_type": "stream",
     "text": [
      "2018-04-13 12:51:15 [scrapy.core.engine] DEBUG: Crawled (200) <GET https://en.wikipedia.org/wiki/Branis%C5%82a%C5%AD_Tara%C5%A1kievi%C4%8D> (referer: https://en.wikipedia.org/wiki/Classical_Belarusian)\n",
      "2018-04-13 12:51:15 [scrapy.core.engine] DEBUG: Crawled (200) <GET https://en.wikipedia.org/wiki/Ma%C4%8Diuli%C5%A1k%C4%97s> (referer: https://en.wikipedia.org/wiki/Branis%C5%82a%C5%AD_Tara%C5%A1kievi%C4%8D)\n"
     ]
    },
    {
     "name": "stdout",
     "output_type": "stream",
     "text": [
      "b'Branislaw Tarashkyevich'\n"
     ]
    },
    {
     "name": "stderr",
     "output_type": "stream",
     "text": [
      "2018-04-13 12:51:16 [scrapy.core.engine] DEBUG: Crawled (200) <GET https://en.wikipedia.org/wiki/Geographic_coordinate_system> (referer: https://en.wikipedia.org/wiki/Ma%C4%8Diuli%C5%A1k%C4%97s)\n"
     ]
    },
    {
     "name": "stdout",
     "output_type": "stream",
     "text": [
      "b'Ma\\xc4\\x8diuli\\xc5\\xa1k\\xc4\\x97s'\n"
     ]
    },
    {
     "name": "stderr",
     "output_type": "stream",
     "text": [
      "2018-04-13 12:51:16 [scrapy.core.engine] DEBUG: Crawled (200) <GET https://en.wikipedia.org/wiki/Coordinate_system> (referer: https://en.wikipedia.org/wiki/Geographic_coordinate_system)\n"
     ]
    },
    {
     "name": "stdout",
     "output_type": "stream",
     "text": [
      "b'Geographic coordinate system'\n"
     ]
    },
    {
     "name": "stderr",
     "output_type": "stream",
     "text": [
      "2018-04-13 12:51:16 [scrapy.core.engine] DEBUG: Crawled (200) <GET https://en.wikipedia.org/wiki/Coordinate_(disambiguation)> (referer: https://en.wikipedia.org/wiki/Coordinate_system)\n"
     ]
    },
    {
     "name": "stdout",
     "output_type": "stream",
     "text": [
      "b'Coordinate system'\n"
     ]
    },
    {
     "name": "stderr",
     "output_type": "stream",
     "text": [
      "2018-04-13 12:51:16 [scrapy.core.engine] DEBUG: Crawled (200) <GET https://en.wikipedia.org/wiki/Coordinate_space> (referer: https://en.wikipedia.org/wiki/Coordinate_(disambiguation))\n"
     ]
    },
    {
     "name": "stdout",
     "output_type": "stream",
     "text": [
      "b'Coordinate (disambiguation)'\n"
     ]
    },
    {
     "name": "stderr",
     "output_type": "stream",
     "text": [
      "2018-04-13 12:51:17 [scrapy.core.engine] DEBUG: Crawled (200) <GET https://en.wikipedia.org/wiki/Mathematics> (referer: https://en.wikipedia.org/wiki/Coordinate_space)\n"
     ]
    },
    {
     "name": "stdout",
     "output_type": "stream",
     "text": [
      "b'Coordinate space'\n"
     ]
    },
    {
     "name": "stderr",
     "output_type": "stream",
     "text": [
      "2018-04-13 12:51:17 [scrapy.core.engine] DEBUG: Crawled (200) <GET https://en.wikipedia.org/wiki/Mathematics_(disambiguation)> (referer: https://en.wikipedia.org/wiki/Mathematics)\n"
     ]
    },
    {
     "name": "stdout",
     "output_type": "stream",
     "text": [
      "b'Mathematics'\n"
     ]
    },
    {
     "name": "stderr",
     "output_type": "stream",
     "text": [
      "2018-04-13 12:51:17 [scrapy.core.engine] DEBUG: Crawled (200) <GET https://en.wikipedia.org/wiki/Mathematics_(Cherry_Ghost_song)> (referer: https://en.wikipedia.org/wiki/Mathematics_(disambiguation))\n"
     ]
    },
    {
     "name": "stdout",
     "output_type": "stream",
     "text": [
      "b'Mathematics (disambiguation)'\n"
     ]
    },
    {
     "name": "stderr",
     "output_type": "stream",
     "text": [
      "2018-04-13 12:51:17 [scrapy.core.engine] DEBUG: Crawled (200) <GET https://en.wikipedia.org/wiki/Single_(music)> (referer: https://en.wikipedia.org/wiki/Mathematics_(Cherry_Ghost_song))\n"
     ]
    },
    {
     "name": "stdout",
     "output_type": "stream",
     "text": [
      "b'Mathematics (Cherry Ghost song)'\n"
     ]
    },
    {
     "name": "stderr",
     "output_type": "stream",
     "text": [
      "2018-04-13 12:51:18 [scrapy.core.engine] DEBUG: Crawled (200) <GET https://en.wikipedia.org/wiki/Music> (referer: https://en.wikipedia.org/wiki/Single_(music))\n"
     ]
    },
    {
     "name": "stdout",
     "output_type": "stream",
     "text": [
      "b'Single (music)'\n"
     ]
    },
    {
     "name": "stderr",
     "output_type": "stream",
     "text": [
      "2018-04-13 12:51:18 [scrapy.core.engine] DEBUG: Crawled (200) <GET https://en.wikipedia.org/wiki/Music_(disambiguation)> (referer: https://en.wikipedia.org/wiki/Music)\n"
     ]
    },
    {
     "name": "stdout",
     "output_type": "stream",
     "text": [
      "b'Music'\n"
     ]
    },
    {
     "name": "stderr",
     "output_type": "stream",
     "text": [
      "2018-04-13 12:51:18 [scrapy.core.engine] DEBUG: Crawled (200) <GET https://en.wikipedia.org/wiki/Musical_notation> (referer: https://en.wikipedia.org/wiki/Music_(disambiguation))\n"
     ]
    },
    {
     "name": "stdout",
     "output_type": "stream",
     "text": [
      "b'Music (disambiguation)'\n"
     ]
    },
    {
     "name": "stderr",
     "output_type": "stream",
     "text": [
      "2018-04-13 12:51:19 [scrapy.core.engine] DEBUG: Crawled (200) <GET https://en.wikipedia.org/wiki/Musical_isomorphism> (referer: https://en.wikipedia.org/wiki/Musical_notation)\n"
     ]
    },
    {
     "name": "stdout",
     "output_type": "stream",
     "text": [
      "b'Musical notation'\n"
     ]
    },
    {
     "name": "stderr",
     "output_type": "stream",
     "text": [
      "2018-04-13 12:51:19 [scrapy.core.engine] DEBUG: Crawled (200) <GET https://en.wikipedia.org/wiki/Isomorphism> (referer: https://en.wikipedia.org/wiki/Musical_isomorphism)\n"
     ]
    },
    {
     "name": "stdout",
     "output_type": "stream",
     "text": [
      "b'Musical isomorphism'\n"
     ]
    },
    {
     "name": "stderr",
     "output_type": "stream",
     "text": [
      "2018-04-13 12:51:19 [scrapy.core.engine] DEBUG: Crawled (200) <GET https://en.wikipedia.org/wiki/Isomorphism_(disambiguation)> (referer: https://en.wikipedia.org/wiki/Isomorphism)\n"
     ]
    },
    {
     "name": "stdout",
     "output_type": "stream",
     "text": [
      "b'Isomorphism'\n"
     ]
    },
    {
     "name": "stderr",
     "output_type": "stream",
     "text": [
      "2018-04-13 12:51:19 [scrapy.core.engine] DEBUG: Crawled (200) <GET https://en.wikipedia.org/wiki/Graph_isomorphism> (referer: https://en.wikipedia.org/wiki/Isomorphism_(disambiguation))\n"
     ]
    },
    {
     "name": "stdout",
     "output_type": "stream",
     "text": [
      "b'Isomorphism (disambiguation)'\n"
     ]
    },
    {
     "name": "stderr",
     "output_type": "stream",
     "text": [
      "2018-04-13 12:51:20 [scrapy.core.engine] DEBUG: Crawled (200) <GET https://en.wikipedia.org/wiki/Graph_theory> (referer: https://en.wikipedia.org/wiki/Graph_isomorphism)\n"
     ]
    },
    {
     "name": "stdout",
     "output_type": "stream",
     "text": [
      "b'Graph isomorphism'\n"
     ]
    },
    {
     "name": "stderr",
     "output_type": "stream",
     "text": [
      "2018-04-13 12:51:20 [scrapy.core.engine] DEBUG: Crawled (200) <GET https://en.wikipedia.org/wiki/Graph_of_a_function> (referer: https://en.wikipedia.org/wiki/Graph_theory)\n"
     ]
    },
    {
     "name": "stdout",
     "output_type": "stream",
     "text": [
      "b'Graph theory'\n"
     ]
    },
    {
     "name": "stderr",
     "output_type": "stream",
     "text": [
      "2018-04-13 12:51:20 [scrapy.core.engine] DEBUG: Crawled (200) <GET https://en.wikipedia.org/wiki/Graph_(discrete_mathematics)> (referer: https://en.wikipedia.org/wiki/Graph_of_a_function)\n"
     ]
    },
    {
     "name": "stdout",
     "output_type": "stream",
     "text": [
      "b'Graph of a function'\n"
     ]
    },
    {
     "name": "stderr",
     "output_type": "stream",
     "text": [
      "2018-04-13 12:51:20 [scrapy.core.engine] DEBUG: Crawled (200) <GET https://en.wikipedia.org/wiki/Graph_(disambiguation)> (referer: https://en.wikipedia.org/wiki/Graph_(discrete_mathematics))\n"
     ]
    },
    {
     "name": "stdout",
     "output_type": "stream",
     "text": [
      "b'Graph (discrete mathematics)'\n"
     ]
    },
    {
     "name": "stderr",
     "output_type": "stream",
     "text": [
      "2018-04-13 12:51:21 [scrapy.core.engine] DEBUG: Crawled (200) <GET https://en.wikipedia.org/wiki/Graph_(topology)> (referer: https://en.wikipedia.org/wiki/Graph_(disambiguation))\n"
     ]
    },
    {
     "name": "stdout",
     "output_type": "stream",
     "text": [
      "b'Graph'\n"
     ]
    },
    {
     "name": "stderr",
     "output_type": "stream",
     "text": [
      "2018-04-13 12:51:21 [scrapy.core.engine] DEBUG: Crawled (200) <GET https://en.wikipedia.org/wiki/Topology> (referer: https://en.wikipedia.org/wiki/Graph_(topology))\n"
     ]
    },
    {
     "name": "stdout",
     "output_type": "stream",
     "text": [
      "b'Graph (topology)'\n"
     ]
    },
    {
     "name": "stderr",
     "output_type": "stream",
     "text": [
      "2018-04-13 12:51:21 [scrapy.core.engine] DEBUG: Crawled (200) <GET https://en.wikipedia.org/wiki/Topography> (referer: https://en.wikipedia.org/wiki/Topology)\n"
     ]
    },
    {
     "name": "stdout",
     "output_type": "stream",
     "text": [
      "b'Topology'\n"
     ]
    },
    {
     "name": "stderr",
     "output_type": "stream",
     "text": [
      "2018-04-13 12:51:21 [scrapy.core.engine] DEBUG: Crawled (200) <GET https://en.wikipedia.org/wiki/Typography> (referer: https://en.wikipedia.org/wiki/Topography)\n"
     ]
    },
    {
     "name": "stdout",
     "output_type": "stream",
     "text": [
      "b'Topography'\n"
     ]
    },
    {
     "name": "stderr",
     "output_type": "stream",
     "text": [
      "2018-04-13 12:51:22 [scrapy.core.engine] DEBUG: Crawled (200) <GET https://en.wikipedia.org/wiki/Typology_(disambiguation)> (referer: https://en.wikipedia.org/wiki/Typography)\n"
     ]
    },
    {
     "name": "stdout",
     "output_type": "stream",
     "text": [
      "b'Typography'\n"
     ]
    },
    {
     "name": "stderr",
     "output_type": "stream",
     "text": [
      "2018-04-13 12:51:22 [scrapy.core.engine] DEBUG: Crawled (200) <GET https://en.wikipedia.org/wiki/Typology_(anthropology)> (referer: https://en.wikipedia.org/wiki/Typology_(disambiguation))\n"
     ]
    },
    {
     "name": "stdout",
     "output_type": "stream",
     "text": [
      "b'Typology'\n"
     ]
    },
    {
     "name": "stderr",
     "output_type": "stream",
     "text": [
      "2018-04-13 12:51:22 [scrapy.core.engine] DEBUG: Crawled (200) <GET https://en.wikipedia.org/wiki/Primate> (referer: https://en.wikipedia.org/wiki/Typology_(anthropology))\n"
     ]
    },
    {
     "name": "stdout",
     "output_type": "stream",
     "text": [
      "b'Biological anthropology'\n"
     ]
    },
    {
     "name": "stderr",
     "output_type": "stream",
     "text": [
      "2018-04-13 12:51:23 [scrapy.core.engine] DEBUG: Crawled (200) <GET https://en.wikipedia.org/wiki/Primate_(disambiguation)> (referer: https://en.wikipedia.org/wiki/Primate)\n"
     ]
    },
    {
     "name": "stdout",
     "output_type": "stream",
     "text": [
      "b'Primate'\n"
     ]
    },
    {
     "name": "stderr",
     "output_type": "stream",
     "text": [
      "2018-04-13 12:51:23 [scrapy.core.engine] DEBUG: Crawled (200) <GET https://en.wikipedia.org/wiki/Primate_(bishop)> (referer: https://en.wikipedia.org/wiki/Primate_(disambiguation))\n"
     ]
    },
    {
     "name": "stdout",
     "output_type": "stream",
     "text": [
      "b'Primate (disambiguation)'\n"
     ]
    },
    {
     "name": "stderr",
     "output_type": "stream",
     "text": [
      "2018-04-13 12:51:23 [scrapy.core.engine] DEBUG: Crawled (200) <GET https://en.wikipedia.org/wiki/Primas_(film)> (referer: https://en.wikipedia.org/wiki/Primate_(bishop))\n"
     ]
    },
    {
     "name": "stdout",
     "output_type": "stream",
     "text": [
      "b'Primate (bishop)'\n"
     ]
    },
    {
     "name": "stderr",
     "output_type": "stream",
     "text": [
      "2018-04-13 12:51:23 [scrapy.core.engine] DEBUG: Crawled (200) <GET https://en.wikipedia.org/wiki/Laura_Bari> (referer: https://en.wikipedia.org/wiki/Primas_(film))\n"
     ]
    },
    {
     "name": "stdout",
     "output_type": "stream",
     "text": [
      "b' (film)'\n",
      "b'Laura Bari'\n"
     ]
    },
    {
     "name": "stderr",
     "output_type": "stream",
     "text": [
      "2018-04-13 12:51:24 [scrapy.core.engine] DEBUG: Crawled (200) <GET https://en.wikipedia.org/wiki/Argentina> (referer: https://en.wikipedia.org/wiki/Laura_Bari)\n",
      "2018-04-13 12:51:24 [scrapy.core.engine] DEBUG: Crawled (200) <GET https://en.wikipedia.org/wiki/Argentina_(disambiguation)> (referer: https://en.wikipedia.org/wiki/Argentina)\n"
     ]
    },
    {
     "name": "stdout",
     "output_type": "stream",
     "text": [
      "b'Argentina'\n"
     ]
    },
    {
     "name": "stderr",
     "output_type": "stream",
     "text": [
      "2018-04-13 12:51:24 [scrapy.core.engine] DEBUG: Crawled (200) <GET https://en.wikipedia.org/wiki/Argentina,_Santiago_del_Estero> (referer: https://en.wikipedia.org/wiki/Argentina_(disambiguation))\n"
     ]
    },
    {
     "name": "stdout",
     "output_type": "stream",
     "text": [
      "b'Argentina (disambiguation)'\n",
      "b'Argentina, Santiago del Estero'\n"
     ]
    },
    {
     "name": "stderr",
     "output_type": "stream",
     "text": [
      "2018-04-13 12:51:25 [scrapy.core.engine] DEBUG: Crawled (200) <GET https://es.wikipedia.org/wiki/Argentina_(Santiago_del_Estero)> (referer: https://en.wikipedia.org/wiki/Argentina,_Santiago_del_Estero)\n"
     ]
    },
    {
     "name": "stdout",
     "output_type": "stream",
     "text": [
      "b'Argentina (Santiago del Estero)'\n"
     ]
    },
    {
     "name": "stderr",
     "output_type": "stream",
     "text": [
      "2018-04-13 12:51:25 [scrapy.core.engine] DEBUG: Crawled (200) <GET https://es.wikipedia.org/wiki/Archivo:Flag_of_None.svg> (referer: https://es.wikipedia.org/wiki/Argentina_(Santiago_del_Estero))\n",
      "2018-04-13 12:51:25 [scrapy.core.engine] INFO: Closing spider (finished)\n",
      "2018-04-13 12:51:25 [scrapy.statscollectors] INFO: Dumping Scrapy stats:\n",
      "{'downloader/request_bytes': 25875,\n",
      " 'downloader/request_count': 62,\n",
      " 'downloader/request_method_count/GET': 62,\n",
      " 'downloader/response_bytes': 2092894,\n",
      " 'downloader/response_count': 62,\n",
      " 'downloader/response_status_count/200': 62,\n",
      " 'finish_reason': 'finished',\n",
      " 'finish_time': datetime.datetime(2018, 4, 13, 9, 51, 25, 720291),\n",
      " 'log_count/DEBUG': 63,\n",
      " 'log_count/INFO': 7,\n",
      " 'memusage/max': 86933504,\n",
      " 'memusage/startup': 86933504,\n",
      " 'request_depth_max': 61,\n",
      " 'response_received_count': 62,\n",
      " 'scheduler/dequeued': 62,\n",
      " 'scheduler/dequeued/memory': 62,\n",
      " 'scheduler/enqueued': 62,\n",
      " 'scheduler/enqueued/memory': 62,\n",
      " 'start_time': datetime.datetime(2018, 4, 13, 9, 51, 7, 813562)}\n",
      "2018-04-13 12:51:25 [scrapy.core.engine] INFO: Spider closed (finished)\n"
     ]
    },
    {
     "name": "stdout",
     "output_type": "stream",
     "text": [
      "b'Archivo:Flag of None.svg'\n"
     ]
    }
   ],
   "source": [
    "import scrapy\n",
    "import scrapy.crawler as crawler\n",
    "process = crawler.CrawlerProcess({\n",
    "    'USER_AGENT': 'Mozilla/4.0 (compatible; MSIE 7.0; Windows NT 5.1)',\n",
    "})\n",
    "\n",
    "process.crawl(FirstLinkSpider)\n",
    "process.start()"
   ]
  },
  {
   "cell_type": "code",
   "execution_count": 3,
   "metadata": {
    "collapsed": true
   },
   "outputs": [],
   "source": [
    "import matplotlib.pyplot as plt\n",
    "import numpy as np\n",
    "%matplotlib inline\n",
    "\n",
    "import networkx as nx\n",
    "g = nx.barabasi_albert_graph(100, 2)\n",
    "pr = nx.pagerank_numpy(g, alpha=0.85)"
   ]
  },
  {
   "cell_type": "code",
   "execution_count": 4,
   "metadata": {},
   "outputs": [
    {
     "data": {
      "text/plain": [
       "[<matplotlib.lines.Line2D at 0x7f64fd8a8630>]"
      ]
     },
     "execution_count": 4,
     "metadata": {},
     "output_type": "execute_result"
    },
    {
     "data": {
      "image/png": "[encoded data removed]",
      "text/plain": [
       "<matplotlib.figure.Figure at 0x7f6505317390>"
      ]
     },
     "metadata": {},
     "output_type": "display_data"
    }
   ],
   "source": [
    "vals = np.sort([el[1] for el in pr.items()])\n",
    "X = [i+1.0 for i in range(len(vals))]\n",
    "\n",
    "plt.plot(X, vals*1.0)"
   ]
  },
  {
   "cell_type": "code",
   "execution_count": 5,
   "metadata": {},
   "outputs": [
    {
     "data": {
      "text/plain": [
       "(0.04789106249717651, 0.005315319260504727)"
      ]
     },
     "execution_count": 5,
     "metadata": {},
     "output_type": "execute_result"
    }
   ],
   "source": [
    "max(pr.values()), min(pr.values())"
   ]
  },
  {
   "cell_type": "code",
   "execution_count": null,
   "metadata": {
    "collapsed": true
   },
   "outputs": [],
   "source": []
  },
  {
   "cell_type": "code",
   "execution_count": null,
   "metadata": {
    "collapsed": true
   },
   "outputs": [],
   "source": []
  },
  {
   "cell_type": "code",
   "execution_count": null,
   "metadata": {
    "collapsed": true
   },
   "outputs": [],
   "source": []
  },
  {
   "cell_type": "code",
   "execution_count": null,
   "metadata": {
    "collapsed": true
   },
   "outputs": [],
   "source": []
  }
 ],
 "metadata": {
  "kernelspec": {
   "display_name": "Python 3",
   "language": "python",
   "name": "python3"
  },
  "language_info": {
   "codemirror_mode": {
    "name": "ipython",
    "version": 3
   },
   "file_extension": ".py",
   "mimetype": "text/x-python",
   "name": "python",
   "nbconvert_exporter": "python",
   "pygments_lexer": "ipython3",
   "version": "3.6.3"
  }
 },
 "nbformat": 4,
 "nbformat_minor": 1
}
